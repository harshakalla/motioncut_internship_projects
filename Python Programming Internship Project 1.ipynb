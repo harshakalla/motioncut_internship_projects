{
 "cells": [
  {
   "cell_type": "code",
   "execution_count": 2,
   "id": "d910c203",
   "metadata": {},
   "outputs": [
    {
     "name": "stdout",
     "output_type": "stream",
     "text": [
      "What is the capital of France?\n",
      "1. Paris\n",
      "2. Rome\n",
      "3. Berlin\n",
      "Enter your answer: paris\n",
      "Correct!\n",
      "\n",
      "What is 2 + 2?\n",
      "1. 3\n",
      "2. 4\n",
      "3. 5\n",
      "Enter your answer: 4\n",
      "Correct!\n",
      "\n",
      "Which planet is known as the Red Planet?\n",
      "1. Venus\n",
      "2. Mars\n",
      "3. Jupiter\n",
      "Enter your answer: mars\n",
      "Correct!\n",
      "\n",
      "Quiz completed!\n",
      "Your final score is: 3/3\n"
     ]
    }
   ],
   "source": [
    "class Quiz:\n",
    "    def __init__(self, questions):\n",
    "        \"\"\"\n",
    "        Initialize the Quiz object with a list of questions.\n",
    "        \"\"\"\n",
    "        self.questions = questions\n",
    "        self.score = 0\n",
    "\n",
    "    def run_quiz(self):\n",
    "        \"\"\"\n",
    "        Run the quiz by iterating through each question, displaying it,\n",
    "        prompting the user for input, checking the answer, and updating the score.\n",
    "        \"\"\"\n",
    "        for question, options, correct_answer in self.questions:\n",
    "            print(question)\n",
    "            # Display options\n",
    "            for idx, option in enumerate(options, 1):\n",
    "                print(f\"{idx}. {option}\")\n",
    "            # Get user input\n",
    "            user_answer = input(\"Enter your answer: \").strip().lower()\n",
    "            # Check if the answer is correct\n",
    "            if user_answer == correct_answer.lower():\n",
    "                print(\"Correct!\")\n",
    "                self.score += 1\n",
    "            else:\n",
    "                print(f\"Incorrect. The correct answer is: {correct_answer}\")\n",
    "            print()  # Add a blank line for clarity\n",
    "        \n",
    "        # Display final score\n",
    "        print(\"Quiz completed!\")\n",
    "        print(f\"Your final score is: {self.score}/{len(self.questions)}\")\n",
    "\n",
    "\n",
    "if __name__ == \"__main__\":\n",
    "    # Define quiz questions, options, and correct answers\n",
    "    quiz_questions = [\n",
    "        (\"What is the capital of France?\", [\"Paris\", \"Rome\", \"Berlin\"], \"Paris\"),\n",
    "        (\"What is 2 + 2?\", [\"3\", \"4\", \"5\"], \"4\"),\n",
    "        (\"Which planet is known as the Red Planet?\", [\"Venus\", \"Mars\", \"Jupiter\"], \"Mars\")\n",
    "    ]\n",
    "    # Create quiz object\n",
    "    quiz = Quiz(quiz_questions)\n",
    "    # Run the quiz\n",
    "    quiz.run_quiz()\n"
   ]
  },
  {
   "cell_type": "code",
   "execution_count": null,
   "id": "54d4d1f6",
   "metadata": {},
   "outputs": [],
   "source": []
  }
 ],
 "metadata": {
  "kernelspec": {
   "display_name": "Python 3 (ipykernel)",
   "language": "python",
   "name": "python3"
  },
  "language_info": {
   "codemirror_mode": {
    "name": "ipython",
    "version": 3
   },
   "file_extension": ".py",
   "mimetype": "text/x-python",
   "name": "python",
   "nbconvert_exporter": "python",
   "pygments_lexer": "ipython3",
   "version": "3.11.5"
  }
 },
 "nbformat": 4,
 "nbformat_minor": 5
}
